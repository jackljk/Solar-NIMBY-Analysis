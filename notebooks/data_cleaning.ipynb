{
 "cells": [
  {
   "cell_type": "markdown",
   "id": "82591efc",
   "metadata": {},
   "source": [
    "# Data Processing for Paper Datasets\n",
    "This notebook shows how the raw downloaded data was processed to create the datasets used for the paper.\n",
    "\n",
    "It is split into two parts:\n",
    "1. **County level data**: This part processes the county-level data, which is used for the county level analysis.\n",
    "2. **Block group level data**: This part processes the block-level data, which is used for the block group level analysis."
   ]
  },
  {
   "cell_type": "markdown",
   "id": "905d226b",
   "metadata": {},
   "source": [
    "## County Level Data"
   ]
  },
  {
   "cell_type": "markdown",
   "id": "3629dae4",
   "metadata": {},
   "source": []
  }
 ],
 "metadata": {
  "language_info": {
   "name": "python"
  }
 },
 "nbformat": 4,
 "nbformat_minor": 5
}
